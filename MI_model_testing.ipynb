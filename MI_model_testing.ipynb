{
 "cells": [
  {
   "cell_type": "code",
   "execution_count": null,
   "metadata": {},
   "outputs": [],
   "source": [
    "import joblib\n",
    "from tqdm.keras import TqdmCallback\n",
    "\n",
    "import numpy as np\n",
    "import tensorflow as tf\n",
    "\n",
    "from keras.models import Sequential, load_model\n",
    "from keras.layers import LSTM\n",
    "from keras.layers import Dense\n",
    "from keras.layers import Bidirectional\n",
    "from keras.layers import Dropout\n",
    "from keras.utils import to_categorical\n",
    "from keras.regularizers import l2\n",
    "from keras.callbacks import ModelCheckpoint\n",
    "\n",
    "from math import ceil\n",
    "\n",
    "from sklearn.model_selection import train_test_split\n",
    "from sklearn.metrics import classification_report, roc_auc_score, f1_score\n",
    "from sklearn.utils import class_weight\n",
    "\n",
    "import matplotlib.pyplot as plt"
   ]
  },
  {
   "cell_type": "code",
   "execution_count": 4,
   "metadata": {},
   "outputs": [],
   "source": [
    "X_train = joblib.load('full/X_train')\n",
    "\n",
    "X_test = joblib.load('full/X_test')\n",
    "\n",
    "y_train = joblib.load('full/y_train')\n",
    "\n",
    "y_test = joblib.load('full/y_test')"
   ]
  },
  {
   "cell_type": "code",
   "execution_count": 43,
   "metadata": {
    "ExecuteTime": {
     "end_time": "2020-02-24T15:32:09.346699Z",
     "start_time": "2020-02-24T15:32:09.341959Z"
    }
   },
   "outputs": [],
   "source": [
    "y_train_bin = np.array([1 if x == 'MI' else 0 for x in y_train])\n",
    "\n",
    "y_test_bin = np.array([1 if x == 'MI' else 0 for x in y_test])"
   ]
  },
  {
   "cell_type": "code",
   "execution_count": 6,
   "metadata": {},
   "outputs": [
    {
     "data": {
      "text/plain": [
       "(0.8327384123601492, 0.8100437922993801)"
      ]
     },
     "execution_count": 6,
     "metadata": {},
     "output_type": "execute_result"
    }
   ],
   "source": [
    "np.mean(y_train_bin), np.mean(y_test_bin)"
   ]
  },
  {
   "cell_type": "code",
   "execution_count": 236,
   "metadata": {},
   "outputs": [],
   "source": [
    "def equal_class_report(X_test, y_test, model):\n",
    "\n",
    "    test_0 = [x for i,x in enumerate(X_test) if y_test[i] == 0]\n",
    "    test_y0 = [0 for x in y_test if x == 0]\n",
    "\n",
    "    rng = np.random.default_rng(1)\n",
    "    index_list = rng.choice(14093, size=len(test_0), replace=False)\n",
    "\n",
    "    test_1 = [X_test[i] for i in index_list]\n",
    "    test_y1 = [1 for i in index_list]\n",
    "\n",
    "    equal_X_test = np.array(test_0 + test_1)\n",
    "    equal_y_test = np.array(test_y0 + test_y1)\n",
    "    \n",
    "    equal_y_pred = model.predict_classes(equal_X_test)\n",
    "    \n",
    "    print('ROC AUC: {}'.format(roc_auc_score(equal_y_test, equal_y_pred)))\n",
    "    print(classification_report(equal_y_test, equal_y_pred))"
   ]
  },
  {
   "cell_type": "markdown",
   "metadata": {},
   "source": [
    "# Modelling"
   ]
  },
  {
   "cell_type": "code",
   "execution_count": 10,
   "metadata": {},
   "outputs": [],
   "source": [
    "class_weights = {i:x for i,x in enumerate(class_weight.compute_class_weight(class_weight='balanced', classes=[0,1], y=y_train_bin))}"
   ]
  },
  {
   "cell_type": "code",
   "execution_count": 5,
   "metadata": {
    "ExecuteTime": {
     "end_time": "2020-03-23T14:34:32.106586Z",
     "start_time": "2020-03-23T14:34:32.103847Z"
    }
   },
   "outputs": [],
   "source": [
    "reg = l2(0.00001)"
   ]
  },
  {
   "cell_type": "code",
   "execution_count": 224,
   "metadata": {},
   "outputs": [],
   "source": [
    "checkpoint = ModelCheckpoint('200303_full_Bi_64_32_8_reg/model_cp', monitor='val_accuracy', verbose=0, save_best_only=True, mode='max')"
   ]
  },
  {
   "cell_type": "code",
   "execution_count": 6,
   "metadata": {
    "ExecuteTime": {
     "end_time": "2020-03-23T14:34:40.990706Z",
     "start_time": "2020-03-23T14:34:40.987147Z"
    }
   },
   "outputs": [],
   "source": [
    "model = Sequential()"
   ]
  },
  {
   "cell_type": "code",
   "execution_count": 7,
   "metadata": {
    "ExecuteTime": {
     "end_time": "2020-03-23T14:34:41.555380Z",
     "start_time": "2020-03-23T14:34:41.516809Z"
    }
   },
   "outputs": [],
   "source": [
    "model.add(Bidirectional(LSTM(64, input_shape=(600,12), return_sequences=True, kernel_regularizer=reg, recurrent_regularizer=reg)))\n",
    "model.add(Dropout(0.5))\n",
    "model.add(Bidirectional(LSTM(32, return_sequences=True, kernel_regularizer=reg, recurrent_regularizer=reg)))\n",
    "model.add(Dropout(0.5))\n",
    "model.add(Bidirectional(LSTM(8, kernel_regularizer=reg, recurrent_regularizer=reg)))\n",
    "model.add(Dropout(0.2))\n",
    "model.add(Dense(1, activation='sigmoid'))\n",
    "model.compile(loss='binary_crossentropy',\n",
    "              optimizer='Nadam',\n",
    "              metrics=['accuracy'])"
   ]
  },
  {
   "cell_type": "code",
   "execution_count": null,
   "metadata": {
    "ExecuteTime": {
     "end_time": "2020-03-23T14:35:18.468507Z",
     "start_time": "2020-03-23T14:35:18.452946Z"
    }
   },
   "outputs": [],
   "source": [
    "history = model.fit(X_train, y_train_bin, class_weight=class_weights,\n",
    "          batch_size=64, epochs=20,\n",
    "          validation_data=(X_test, y_test_bin),\n",
    "          verbose=0, callbacks=[TqdmCallback(verbose=1), checkpoint])"
   ]
  },
  {
   "cell_type": "code",
   "execution_count": 240,
   "metadata": {},
   "outputs": [],
   "source": [
    "model.save('200303_full_Bi_64_32_8_reg/model_end')"
   ]
  },
  {
   "cell_type": "code",
   "execution_count": 241,
   "metadata": {},
   "outputs": [
    {
     "data": {
      "text/plain": [
       "['200303_full_Bi_64_32_8_reg/history']"
      ]
     },
     "execution_count": 241,
     "metadata": {},
     "output_type": "execute_result"
    }
   ],
   "source": [
    "joblib.dump(history, '200303_full_Bi_64_32_8_reg/history')"
   ]
  },
  {
   "cell_type": "code",
   "execution_count": 242,
   "metadata": {},
   "outputs": [
    {
     "data": {
      "image/png": "[encoded data removed]",
      "text/plain": [
       "<Figure size 432x288 with 1 Axes>"
      ]
     },
     "metadata": {
      "needs_background": "light"
     },
     "output_type": "display_data"
    }
   ],
   "source": [
    "plt.plot(history.history['accuracy'])\n",
    "plt.plot(history.history['val_accuracy'])\n",
    "plt.title('Model accuracy')\n",
    "plt.ylabel('Accuracy')\n",
    "plt.xlabel('Epoch')\n",
    "plt.legend(['Train', 'Test'], loc='upper left')\n",
    "plt.show()"
   ]
  },
  {
   "cell_type": "code",
   "execution_count": 243,
   "metadata": {},
   "outputs": [
    {
     "data": {
      "image/png": "[encoded data removed]",
      "text/plain": [
       "<Figure size 432x288 with 1 Axes>"
      ]
     },
     "metadata": {
      "needs_background": "light"
     },
     "output_type": "display_data"
    }
   ],
   "source": [
    "plt.plot(history.history['loss'])\n",
    "plt.plot(history.history['val_loss'])\n",
    "plt.title('Model loss')\n",
    "plt.ylabel('Loss')\n",
    "plt.xlabel('Epoch')\n",
    "plt.legend(['Train', 'Test'], loc='upper left')\n",
    "plt.show()"
   ]
  },
  {
   "cell_type": "code",
   "execution_count": 238,
   "metadata": {},
   "outputs": [
    {
     "name": "stdout",
     "output_type": "stream",
     "text": [
      "ROC AUC: 0.8502994011976048\n",
      "              precision    recall  f1-score   support\n",
      "\n",
      "           0       0.89      0.79      0.84      3340\n",
      "           1       0.81      0.91      0.86      3340\n",
      "\n",
      "    accuracy                           0.85      6680\n",
      "   macro avg       0.85      0.85      0.85      6680\n",
      "weighted avg       0.85      0.85      0.85      6680\n",
      "\n"
     ]
    }
   ],
   "source": [
    "equal_class_report(X_test, y_test_bin, model)"
   ]
  },
  {
   "cell_type": "code",
   "execution_count": null,
   "metadata": {},
   "outputs": [],
   "source": []
  }
 ],
 "metadata": {
  "kernelspec": {
   "display_name": "py36",
   "language": "python",
   "name": "py36"
  },
  "language_info": {
   "codemirror_mode": {
    "name": "ipython",
    "version": 3
   },
   "file_extension": ".py",
   "mimetype": "text/x-python",
   "name": "python",
   "nbconvert_exporter": "python",
   "pygments_lexer": "ipython3",
   "version": "3.6.9"
  },
  "varInspector": {
   "cols": {
    "lenName": 16,
    "lenType": 16,
    "lenVar": 40
   },
   "kernels_config": {
    "python": {
     "delete_cmd_postfix": "",
     "delete_cmd_prefix": "del ",
     "library": "var_list.py",
     "varRefreshCmd": "print(var_dic_list())"
    },
    "r": {
     "delete_cmd_postfix": ") ",
     "delete_cmd_prefix": "rm(",
     "library": "var_list.r",
     "varRefreshCmd": "cat(var_dic_list()) "
    }
   },
   "types_to_exclude": [
    "module",
    "function",
    "builtin_function_or_method",
    "instance",
    "_Feature"
   ],
   "window_display": false
  }
 },
 "nbformat": 4,
 "nbformat_minor": 2
}
